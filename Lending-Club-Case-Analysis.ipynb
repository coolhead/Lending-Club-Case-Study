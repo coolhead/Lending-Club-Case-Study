{
 "cells": [
  {
   "cell_type": "markdown",
   "id": "cf547cd9-1cb2-4cdc-bfb7-68023e7e8ce4",
   "metadata": {
    "editable": true,
    "raw_mimetype": "",
    "slideshow": {
     "slide_type": ""
    },
    "tags": []
   },
   "source": [
    "#                                             Lending Club Case Study\n",
    "\n",
    "### Problem Statement\n",
    "This **Company** is the largest **online loan marketplace, facilitating personal loans, business loans, and financing of medical procedures**. Borrowers can easily access lower interest rate loans through a fast online interface. Like most other lending companies, lending loans to **‘risky’** applicants is the largest source of **financial loss (called credit loss)**. **Credit loss** is the amount of money lost by the lender when the borrower refuses to pay or runs away with the money owed. In other words, borrowers who default cause the largest amount of loss to the lenders. In this case, the customers labelled as **'charged-off'** are the **'defaulters'**. \n",
    "\n",
    "If one is able to identify these **risky loan applicants**, then such loans can be reduced thereby cutting down the amount of **credit loss**. \n",
    "\n",
    "### Goal\n",
    "Utilize **Exploratory Data Analysis(EDA)** to determine which types of **customers** are likely to **default on a loan**. By identifying the driving factors behind loan defaults to **reduce credit loss effectively**.\n"
   ]
  },
  {
   "cell_type": "markdown",
   "id": "949eb496-13d0-465d-93ac-53bb850c7281",
   "metadata": {},
   "source": [
    "##  Steps to achieve the Goal\n",
    " 1. Data Sourcing\n",
    " 2. Data Inspection\n",
    " 3. Data Cleaning\n",
    " 4. Data Visualization and Analysis\n",
    " 5. Insights and observations"
   ]
  },
  {
   "cell_type": "markdown",
   "id": "3ad197e8-4a90-4974-b642-2f0e96174b58",
   "metadata": {},
   "source": [
    "## 1. Loading given data (Data Sourcing)"
   ]
  },
  {
   "cell_type": "code",
   "execution_count": null,
   "id": "214532f6-3010-42f8-bb89-8861eca348db",
   "metadata": {},
   "outputs": [],
   "source": [
    "# Importing required libraries\n",
    "# Data manipulation libraries\n",
    "import pandas as pd\n",
    "import numpy as np \n",
    "\n",
    "# Data visualization libraries\n",
    "import seaborn as sns\n",
    "import matplotlib.pyplot as plt\n",
    "import plotly.express as px \n",
    "\n",
    "# Warnings library to supress warnings\n",
    "import warnings\n",
    "warnings.filterwarnings('ignore')"
   ]
  },
  {
   "cell_type": "code",
   "execution_count": null,
   "id": "b3ebef1a-aff2-4e0c-9730-4675cfdb5b0f",
   "metadata": {},
   "outputs": [],
   "source": [
    "# Loading the given data by using Panda library's read method\n",
    "loan_dataFrame = pd.read_csv('loan.csv')"
   ]
  },
  {
   "cell_type": "markdown",
   "id": "eed4b8ea-149d-47ea-87a4-fd920aef9737",
   "metadata": {},
   "source": [
    "## 2. Understanding given data (Data Inspection)"
   ]
  },
  {
   "cell_type": "code",
   "execution_count": null,
   "id": "5efdd28b-3666-4107-9403-17db61eaae5e",
   "metadata": {},
   "outputs": [],
   "source": [
    "# Displaying the first 5 rows of the DataFrame\n",
    "print(loan_dataFrame.head())"
   ]
  },
  {
   "cell_type": "code",
   "execution_count": null,
   "id": "38684858-a0fa-497a-9cef-e9ebcf3ccfed",
   "metadata": {},
   "outputs": [],
   "source": [
    "# Displaying a concise summary of the DataFrame\n",
    "print(loan_dataFrame.info())"
   ]
  },
  {
   "cell_type": "code",
   "execution_count": null,
   "id": "ecb75100-4156-4565-bc4a-e9dc96ec2ac7",
   "metadata": {},
   "outputs": [],
   "source": [
    "# Describing the dataframe (describe provides statistical summary of the numerical columns in the dataframe)\n",
    "print(loan_dataFrame.describe())"
   ]
  },
  {
   "cell_type": "code",
   "execution_count": null,
   "id": "81cb9429-3e4b-42d2-9731-21fc2d538d15",
   "metadata": {},
   "outputs": [],
   "source": [
    "# Displaying Data types of each column\n",
    "print(loan_dataFrame.dtypes)"
   ]
  },
  {
   "cell_type": "code",
   "execution_count": null,
   "id": "cef904ae-904c-4239-a740-832bbf49caaf",
   "metadata": {},
   "outputs": [],
   "source": [
    "# Displaying the columns in the dataframe\n",
    "print(loan_dataFrame.columns)"
   ]
  },
  {
   "cell_type": "markdown",
   "id": "c337b10c-0d9f-4bd2-8ba8-7b70dc9f9596",
   "metadata": {},
   "source": [
    "## 3. Performing Data Cleaning activities(Data Cleaning)"
   ]
  },
  {
   "cell_type": "markdown",
   "id": "6b1d04ca-6c61-4998-aa74-48b3e624cdb4",
   "metadata": {},
   "source": [
    "### Handle Missing Values"
   ]
  },
  {
   "cell_type": "code",
   "execution_count": null,
   "id": "a9a21353-f95c-4c41-bf80-43c0eca327f1",
   "metadata": {},
   "outputs": [],
   "source": [
    "# Count the number of missing (null or NaN) values in each column for the dataframe.\n",
    "print(loan_dataFrame.isnull().sum())"
   ]
  },
  {
   "cell_type": "code",
   "execution_count": null,
   "id": "149895b8-838d-4228-86cf-a63d3daec89e",
   "metadata": {},
   "outputs": [],
   "source": [
    "# Displaying column and Percentage of missing values for each column having missing values and the number of columns\n",
    "\n",
    "# Only Columns with missing (null or NaN) values in the dataframe.\n",
    "null_columns = loan_dataFrame.columns[loan_dataFrame.isnull().any()]\n",
    "\n",
    "# Calculate sum of null values for each column containing null values\n",
    "null_counts = loan_dataFrame[null_columns].isnull().sum()\n",
    "\n",
    "total_rows = len(loan_dataFrame)\n",
    "null_percentages = (null_counts / total_rows) * 100\n",
    "print(\"\\nPercentage of missing values for each column:\")\n",
    "print(null_percentages)\n",
    "\n",
    "# Displaying the number of Columns with missing (null or NaN) values >=50 in the dataframe.\n",
    "print(\"\\n Total number of columns having missing values >= 50 :\")\n",
    "print(len(null_percentages[null_percentages >= 50]))"
   ]
  },
  {
   "cell_type": "code",
   "execution_count": null,
   "id": "fed6f1b8-45f3-42eb-9f45-48d7e733b052",
   "metadata": {},
   "outputs": [],
   "source": [
    "# As we have a lot of columns with equal to or more than 50% missing value.\n",
    "# we should remove them as high percentage of missing data may not contribute meaningful information to our analysis.\n",
    "columns_to_drop = null_percentages[null_percentages >= 50].index\n",
    "\n",
    "# Shape of the dataframe before removing the columns\n",
    "print(\"\\n Shape of the dataframe before removing the columns :\")\n",
    "print(loan_dataFrame.shape)\n",
    "\n",
    "# Drop columns from DataFrame\n",
    "loan_dataFrame = loan_dataFrame.drop(columns=columns_to_drop)\n",
    "\n",
    "# Shape of the dataframe after removing the columns \n",
    "print(\"\\n Shape of the dataframe after removing the columns :\")\n",
    "print(loan_dataFrame.shape)"
   ]
  },
  {
   "cell_type": "code",
   "execution_count": null,
   "id": "0364840a-4ce5-45fd-bbd4-a665bd11d377",
   "metadata": {},
   "outputs": [],
   "source": [
    "# Now lets Count the number of missing values in across the rows\n",
    "missing_values_per_row = loan_dataFrame.isnull().sum(axis=1).max()\n",
    "\n",
    "print((missing_values_per_row))"
   ]
  },
  {
   "cell_type": "markdown",
   "id": "7b3f01ad-56a6-4fac-a024-e71958b1318f",
   "metadata": {},
   "source": [
    "### As we can see that the missing values in rows are not high we don't have to remove them."
   ]
  },
  {
   "cell_type": "code",
   "execution_count": null,
   "id": "eb45fb39-4e9a-4c13-99bd-46e6ad6ee9cd",
   "metadata": {},
   "outputs": [],
   "source": [
    "# Now lets check column with unique value with default sort \"ascending\"\n",
    "unique_value_counts = loan_dataFrame.nunique().sort_values()\n",
    "print(unique_value_counts)"
   ]
  },
  {
   "cell_type": "code",
   "execution_count": null,
   "id": "c90caa32-3722-44c0-8b7f-9b54a79f8ef6",
   "metadata": {},
   "outputs": [],
   "source": [
    "# As we can see there are many columns which are having single unique value. we can remove those columns.\n",
    "# As Columns with a single unique value across all rows are generally not relevant for analysis. \n",
    "\n",
    "# Identify columns with only one unique value\n",
    "single_unique_value_columns = unique_value_counts[unique_value_counts == 1].index\n",
    "\n",
    "print(\"\\n Shape of the dataframe before removing the columns :\")\n",
    "print(loan_dataFrame.shape)\n",
    "# Drop columns with only one unique value from the DataFrame\n",
    "loan_dataFrame = loan_dataFrame.drop(columns=single_unique_value_columns)\n",
    "\n",
    "print(\"\\n Shape of the dataframe before after the columns :\")\n",
    "print(loan_dataFrame.shape)"
   ]
  },
  {
   "cell_type": "code",
   "execution_count": null,
   "id": "500e8bc1-a963-43d6-aebf-befeb21940df",
   "metadata": {},
   "outputs": [],
   "source": [
    "# Columns in the dataframe\n",
    "print(loan_dataFrame.columns)"
   ]
  },
  {
   "cell_type": "markdown",
   "id": "55375df1-40e1-433c-a33e-86baf1453da6",
   "metadata": {},
   "source": [
    "### Now we will check for any irrelevant columns which we don't require for our Analysis and remove them\n",
    "\n",
    "\n",
    "### 1. Removing below as they are unique identifier for each row and does not provide any informative value about the data itself\n",
    "- id\n",
    "- member_id\n",
    "\n",
    "### 2. Removing below as they are typically free-text entries with high variability and not standardized.\n",
    "- emp_title\n",
    "- title\n",
    "\n",
    "### 3. Removing below as URLs are links to web resources and do not contain intrinsic information useful for analysis.\n",
    "- url\n",
    " \n",
    "### 4. Removing below as this is lengthy text field that contain unstructured data\n",
    "- desc\n",
    "\n",
    "### 5. Removing below as this is having masked data and not relevant for out analysis\n",
    "- zip_code\n",
    "\n",
    "### 6. Other columns - we don't require the below columns as these columns are for after loan approval process.\n",
    "- delinq_2yrs\n",
    "- pub_rec\n",
    "- revol_bal\n",
    "- out_prncp\n",
    "- out_prncp_inv\n",
    "- total_pymnt\n",
    "- total_pymnt_inv\n",
    "- total_rec_prncp\n",
    "- total_rec_int\n",
    "- total_rec_late_fee\n",
    "- recoveries\n",
    "- collection_recovery_fee\n",
    "- last_pymnt_d\n",
    "- last_pymnt_amnt\n",
    "- last_credit_pull_d\n",
    "- funded_amnt_inv\n",
    "- earliest_cr_line"
   ]
  },
  {
   "cell_type": "code",
   "execution_count": null,
   "id": "f99a6d5a-4328-4581-ad60-10fd29c4ae09",
   "metadata": {},
   "outputs": [],
   "source": [
    "#Removing the above irrelevant columns\n",
    "\n",
    "print(\"\\n Shape of the dataframe before removing the columns :\")\n",
    "print(loan_dataFrame.shape)\n",
    "\n",
    "loan_dataFrame=loan_dataFrame.drop(['id', 'member_id', 'emp_title', 'title', 'url', 'desc', 'zip_code', 'delinq_2yrs','pub_rec','revol_bal','out_prncp','out_prncp_inv','total_pymnt','total_pymnt_inv','total_rec_prncp','total_rec_int','total_rec_late_fee','recoveries','collection_recovery_fee','last_pymnt_d','last_pymnt_amnt','last_credit_pull_d', 'funded_amnt_inv', 'earliest_cr_line'],axis=1)\n",
    "\n",
    "print(\"\\n Shape of the dataframe after removing the columns :\")\n",
    "print(loan_dataFrame.shape)"
   ]
  },
  {
   "cell_type": "code",
   "execution_count": null,
   "id": "d2d40892-7f2b-40e3-bf9f-1c1c27207c9a",
   "metadata": {},
   "outputs": [],
   "source": [
    "# Columns in the dataframe\n",
    "print(loan_dataFrame.columns)"
   ]
  },
  {
   "cell_type": "markdown",
   "id": "5ecd2536-b94f-4da4-8e0f-bbac0d6bac28",
   "metadata": {},
   "source": [
    "### we have removed all the irrevelant columns"
   ]
  },
  {
   "cell_type": "code",
   "execution_count": null,
   "id": "b40d17a8-8121-4960-b6f9-cb94a6c46917",
   "metadata": {},
   "outputs": [],
   "source": [
    "# Now lets Check for any more missing values across the dataframe\n",
    "print(loan_dataFrame.isnull().sum().sort_values())"
   ]
  },
  {
   "cell_type": "code",
   "execution_count": null,
   "id": "2902c73a-9071-492d-a2b8-1191cc2e422c",
   "metadata": {},
   "outputs": [],
   "source": [
    "# columns with missing values are \"revol_util\", \"pub_rec_bankruptcies\", \"emp_length\"\n",
    "# Lets first find out the datatype of the missing value columns\n",
    "print(loan_dataFrame.info())"
   ]
  },
  {
   "cell_type": "code",
   "execution_count": null,
   "id": "6b44c17b-5a33-4d50-a97b-dc05e066ca5a",
   "metadata": {},
   "outputs": [],
   "source": [
    "# Lets Impute Missing Values\n",
    "# Lets find out the Mode for emp_length\n",
    "# As we know when dealing with missing values in categorical (object) columns, such as those containing text \n",
    "# or categorical data, the most common approach is to impute with the mode (the most frequent value). \n",
    "# This is because categorical data doesn't have a meaningful average (mean) like numerical data does.\n",
    "\n",
    "print(\"Mode : \" + loan_dataFrame.emp_length.mode()[0])\n",
    "loan_dataFrame.emp_length.value_counts()"
   ]
  },
  {
   "cell_type": "code",
   "execution_count": null,
   "id": "c8e61c7c-5598-42c3-a63d-0ebc8e24459e",
   "metadata": {},
   "outputs": [],
   "source": [
    "#The frequency distribution above indicates that the mode value significantly outweighs the next most frequent value.\n",
    "#This suggests that assigning the mode value to the null entries in the column is a reliable approach.\n",
    "#Moreover, the proportion of missing values is minimal, so imputing with the mode value has negligible impact on the analysis.\n",
    "\n",
    "loan_dataFrame.emp_length.fillna(loan_dataFrame.emp_length.mode()[0], inplace = True)\n",
    "print(loan_dataFrame.emp_length.isna().sum())"
   ]
  },
  {
   "cell_type": "code",
   "execution_count": null,
   "id": "273ab625-95a0-4216-8371-ceb4b603747c",
   "metadata": {},
   "outputs": [],
   "source": [
    "# lets display the sum of missing values again\n",
    "print(loan_dataFrame.isnull().sum().sort_values())"
   ]
  },
  {
   "cell_type": "code",
   "execution_count": null,
   "id": "df9150af-0eda-4b2c-882a-ce5f3ad35f5b",
   "metadata": {},
   "outputs": [],
   "source": [
    "# we have completed Imputing missing values for emp_length column\n",
    "# Lets Impute Missing Values for revol_util column\n",
    "# Dropping the missing value rows\n",
    "loan_dataFrame.dropna(axis = 0, subset = ['revol_util'] , inplace = True)"
   ]
  },
  {
   "cell_type": "code",
   "execution_count": null,
   "id": "2ee727d0-a318-4fdc-90fe-7b539f48d078",
   "metadata": {},
   "outputs": [],
   "source": [
    "# we have completed Imputing missing values for revol_util column\n",
    "# Lets Impute Missing Values for pub_rec_bankruptcies column\n",
    "# Inserting 0 for null values in pub_rec_bankruptcies column as the data mostly has value 0 which can be subsitued in place of null as that will have no impact on the analysis.\n",
    "loan_dataFrame.pub_rec_bankruptcies.fillna(0,inplace=True)\n",
    "\n",
    "# lets display the sum of missing values again\n",
    "print(loan_dataFrame.isnull().sum().sort_values())"
   ]
  },
  {
   "cell_type": "markdown",
   "id": "e9bcfb8f-cf88-4824-b7c4-ddb6e0d8453d",
   "metadata": {},
   "source": [
    "### We have finally completed the process of addressing and eliminating null values to enhance the accuracy of our analysis."
   ]
  },
  {
   "cell_type": "markdown",
   "id": "3efd0176-3a99-4928-b929-991720c3b877",
   "metadata": {},
   "source": [
    "### Removing Duplicates"
   ]
  },
  {
   "cell_type": "code",
   "execution_count": null,
   "id": "1ab9ea39-0ce3-4644-8f4b-6bf2651e6de8",
   "metadata": {},
   "outputs": [],
   "source": [
    "# Removing duplicate rows in the dataframe\n",
    "\n",
    "# Shape of the dataframe before removing duplicate rows\n",
    "print(loan_dataFrame.shape)\n",
    "\n",
    "loan_dataFrame = loan_dataFrame.drop_duplicates()\n",
    "\n",
    "# Shape of the dataframe after removing duplicate rows\n",
    "print(loan_dataFrame.shape)"
   ]
  },
  {
   "cell_type": "markdown",
   "id": "2952ef3a-94f4-4fb3-a8a8-6fca359d7772",
   "metadata": {},
   "source": [
    "### So,no duplicate rows found in the dataframe"
   ]
  },
  {
   "cell_type": "markdown",
   "id": "69e4b74b-8464-465f-a40f-ecba4d9b0fa4",
   "metadata": {},
   "source": [
    "### Standardizing the data"
   ]
  },
  {
   "cell_type": "code",
   "execution_count": null,
   "id": "191247bb-50b3-4361-9cc9-b827afaad5d9",
   "metadata": {},
   "outputs": [],
   "source": [
    "# Lets remove % symbol from intrest rate and revol_util columns so that it can be used in calculations\n",
    "loan_dataFrame['int_rate'] = loan_dataFrame['int_rate'].str.rstrip('%')\n",
    "loan_dataFrame['revol_util'] = loan_dataFrame['revol_util'].str.rstrip('%')\n",
    "\n",
    "print(loan_dataFrame['int_rate'])\n",
    "print(loan_dataFrame['revol_util'])"
   ]
  },
  {
   "cell_type": "code",
   "execution_count": null,
   "id": "bd95e5d6-14a9-4ddf-9acc-fea040f8bd39",
   "metadata": {},
   "outputs": [],
   "source": [
    "# Lets format employment length column to have only numbers.\n",
    "loan_dataFrame['emp_length']=loan_dataFrame.emp_length.str.extract('(\\d+)')\n",
    "print(loan_dataFrame[\"emp_length\"])"
   ]
  },
  {
   "cell_type": "code",
   "execution_count": null,
   "id": "6733f148-5f48-4fe8-906b-edd67d80a1aa",
   "metadata": {},
   "outputs": [],
   "source": [
    "# convert amount columns into numeric data to find some correlation among important ones.\n",
    "convert_columns_to_numeric = ['loan_amnt','funded_amnt','int_rate','installment','annual_inc','dti','emp_length', \"revol_util\"]\n",
    "loan_dataFrame[convert_columns_to_numeric] = loan_dataFrame[convert_columns_to_numeric].apply(pd.to_numeric)"
   ]
  },
  {
   "cell_type": "code",
   "execution_count": null,
   "id": "3753efb2-df6f-4765-9961-09d0ca648dbe",
   "metadata": {},
   "outputs": [],
   "source": [
    "# Lets format term to have only numbers.\n",
    "loan_dataFrame.term=loan_dataFrame.term.apply(lambda x: int(x.replace(' months',''))).astype(int)"
   ]
  },
  {
   "cell_type": "code",
   "execution_count": null,
   "id": "a6a91711-496e-4e83-b758-b33f52e2721a",
   "metadata": {},
   "outputs": [],
   "source": [
    "# There are only 3 records with 'NONE' value in the data. So replacing the value with 'OTHER'\n",
    "loan_dataFrame['home_ownership'].replace(to_replace = ['NONE'],value='OTHER',inplace = True)"
   ]
  },
  {
   "cell_type": "markdown",
   "id": "18c16831-f55e-451c-ae6a-c432edea52c1",
   "metadata": {},
   "source": [
    "### Removing Outliers - Removing high and low values that would disproportionately affect the results of our analysis."
   ]
  },
  {
   "cell_type": "code",
   "execution_count": null,
   "id": "514cb022-da71-4b93-a09f-aa1abc3be6fa",
   "metadata": {},
   "outputs": [],
   "source": [
    "# we will use Visual Methods: Box Plot \n",
    "# Columns Suitable for Box Plots are Numerical Columns( Continuous Variables, Discrete Numerical Variables)\n",
    "# So we have columns like loan_amnt, funded_amnt, int_rate, annual_inc, dti"
   ]
  },
  {
   "cell_type": "code",
   "execution_count": null,
   "id": "1a24d305-61ee-4db8-8133-848de4942c08",
   "metadata": {},
   "outputs": [],
   "source": [
    "# Lets start with loan_amnt\n",
    "# Box plot for a single numerical column loan_amnt\n",
    "fig = px.box(loan_dataFrame, x='loan_amnt', title='Box Plot of loan_amnt')\n",
    "fig.update_xaxes(tickprefix='', tickformat='d')\n",
    "fig.show()"
   ]
  },
  {
   "cell_type": "code",
   "execution_count": null,
   "id": "40389b76-1d25-41c0-8146-49ec115650b1",
   "metadata": {},
   "outputs": [],
   "source": [
    "# Here maximum value (35000) is not much higher than the upper fence (29700), so it will not have much impact"
   ]
  },
  {
   "cell_type": "code",
   "execution_count": null,
   "id": "7df27abc-6729-4839-b536-3a88b860b50d",
   "metadata": {},
   "outputs": [],
   "source": [
    "# Now we will see funded_amnt\n",
    "# Box plot for a single numerical column funded_amnt\n",
    "fig = px.box(loan_dataFrame, x='funded_amnt', title='Box Plot of funded_amnt')\n",
    "fig.update_xaxes(tickprefix='', tickformat='d')\n",
    "fig.show()"
   ]
  },
  {
   "cell_type": "code",
   "execution_count": null,
   "id": "8b26524d-f3c6-45de-b43c-e277aa65669e",
   "metadata": {},
   "outputs": [],
   "source": [
    "# Here maximum value (35000) is not much higher than the upper fence (298500), so it will not have much impact"
   ]
  },
  {
   "cell_type": "code",
   "execution_count": null,
   "id": "479e4acf-bb2f-4e6c-94df-e27d814a76d2",
   "metadata": {},
   "outputs": [],
   "source": [
    "# Now we will see int_rate\n",
    "# Box plot for a single numerical column int_rate\n",
    "fig = px.box(loan_dataFrame, x='int_rate', title='Box Plot of int_rate')\n",
    "fig.show()"
   ]
  },
  {
   "cell_type": "code",
   "execution_count": null,
   "id": "91b17a39-0bcd-47b5-8ea9-d120758e9c3e",
   "metadata": {},
   "outputs": [],
   "source": [
    "# Here maximum value (24.4) is not much higher than the upper fence (22.35), so it will not have much impact"
   ]
  },
  {
   "cell_type": "code",
   "execution_count": null,
   "id": "82a9bbfd-e4f2-4327-baea-6b9f8e83005b",
   "metadata": {},
   "outputs": [],
   "source": [
    "# Now we will see annual_inc\n",
    "# Box plot for a single numerical column annual_inc\n",
    "fig = px.box(loan_dataFrame, x='annual_inc', title='Box Plot of annual_inc')\n",
    "fig.update_xaxes(tickprefix='', tickformat='d')\n",
    "fig.show()"
   ]
  },
  {
   "cell_type": "code",
   "execution_count": null,
   "id": "3b85c6a9-2736-4240-beb1-8ecfb2ecb891",
   "metadata": {},
   "outputs": [],
   "source": [
    "# Here maximum value (6000k) is significantly higher than the upper fence (146k), these values are considered outliers and should be removed to improve the quality of the data analysis.\n",
    "\n",
    "# To determine the appropriate quantile for removing outliers in the annual_inc column, \n",
    "# we can analyze the trend of the values using a line chart. By visualizing the sorted values,\n",
    "# we can identify where the data starts to deviate significantly, which will help you decide on the appropriate threshold for outlier removal.\n",
    "\n",
    "fig = px.line(sorted(loan_dataFrame.annual_inc), width=750, height=350,\n",
    "              title='Trend of annual_inc',\n",
    "              labels={'value': 'annual_inc', 'index': 'Position in Data'})\n",
    "fig.show()"
   ]
  },
  {
   "cell_type": "code",
   "execution_count": null,
   "id": "941bd41c-5c3b-4022-91f4-070edeaff5d1",
   "metadata": {},
   "outputs": [],
   "source": [
    "# As observed from the line chart, the annual income values increase exponentially around the 99th percentile. \n",
    "# Therefore, we can remove values greater than the 99th percentile.\n",
    "loan_dataFrame = loan_dataFrame[loan_dataFrame.annual_inc <= np.percentile(loan_dataFrame.annual_inc, 99)]"
   ]
  },
  {
   "cell_type": "code",
   "execution_count": null,
   "id": "dc4ed2b0-e510-45b1-ae07-d3a27bf5de26",
   "metadata": {},
   "outputs": [],
   "source": [
    "# Lets observe line chart after removing the outliers\n",
    "fig = px.line(sorted(loan_dataFrame.annual_inc), width=750, height=350,\n",
    "              title='Trend of annual_inc',\n",
    "              labels={'value': 'annual_inc', 'index': 'Position in Data'})\n",
    "fig.show()"
   ]
  },
  {
   "cell_type": "code",
   "execution_count": null,
   "id": "4694d886-209f-494e-bc50-3f2043fe3152",
   "metadata": {},
   "outputs": [],
   "source": [
    "# Now we will see dti\n",
    "# Box plot for a single numerical column dti\n",
    "fig = px.box(loan_dataFrame, x='dti', title='Box Plot of dti')\n",
    "fig.show()"
   ]
  },
  {
   "cell_type": "code",
   "execution_count": null,
   "id": "1d69065d-2e80-4943-ad95-18761dc6ba49",
   "metadata": {},
   "outputs": [],
   "source": [
    "# As we can see no outliers are present in dti column so we can proceed"
   ]
  },
  {
   "cell_type": "markdown",
   "id": "634b4a18-ecb8-4a28-86a8-a18435363dfe",
   "metadata": {},
   "source": [
    "### Filtering Data"
   ]
  },
  {
   "cell_type": "code",
   "execution_count": null,
   "id": "fcfb01ec-e28b-4409-a728-57b58078f7f4",
   "metadata": {},
   "outputs": [],
   "source": [
    "# The goal of this analysis is to see who is likely to default and this can only be said in case of either fully paid or charged off loans.\n",
    "# So, removing loans with status as 'Current'\n",
    "\n",
    "# Shape of the dataframe before removing columns\n",
    "print(loan_dataFrame.shape)\n",
    "\n",
    "loan_dataFrame = loan_dataFrame[loan_dataFrame.loan_status!='Current']\n",
    "# Shape of the dataframe after removing columns\n",
    "print(loan_dataFrame.shape)"
   ]
  },
  {
   "cell_type": "markdown",
   "id": "2a289310-6d29-4a6f-96b9-e102728bbb57",
   "metadata": {},
   "source": [
    "### Derived columns"
   ]
  },
  {
   "cell_type": "code",
   "execution_count": null,
   "id": "e92ff59d-c0fd-4dad-9084-3904ab802ab3",
   "metadata": {},
   "outputs": [],
   "source": [
    "# Lets derive some new columns using existing data as it may further used in analysis.\n",
    "# create month and year columns separately\n",
    "loan_dataFrame.issue_d = pd.to_datetime(loan_dataFrame.issue_d, format='%b-%y')\n",
    "loan_dataFrame['issue_year']=loan_dataFrame['issue_d'].dt.year\n",
    "loan_dataFrame['issue_month']=loan_dataFrame['issue_d'].dt.month\n",
    "\n",
    "# Convert to integer\n",
    "loan_dataFrame['issue_year'] = loan_dataFrame['issue_year'].astype(int)\n",
    "loan_dataFrame['issue_month'] = loan_dataFrame['issue_month'].astype(int)\n",
    "\n",
    "print(loan_dataFrame.head)"
   ]
  },
  {
   "cell_type": "code",
   "execution_count": null,
   "id": "dde6020e-159c-48fe-99f4-2eeb7b55fbc8",
   "metadata": {},
   "outputs": [],
   "source": [
    "#creating bins for int_rate, annual_inc, open_acc,revol_util and total_acc for better analysis\n",
    "loan_dataFrame['int_rate_groups'] = pd.cut(loan_dataFrame['int_rate'], bins=5,precision =0,labels=['5%-9%','9%-13%','13%-17%','17%-21%','21%-24%'])\n",
    "loan_dataFrame['annual_inc_groups'] = pd.cut(loan_dataFrame['annual_inc'], bins=5,precision =0,labels =['3k-31k','31k-58k','58k-85k','85k-112k','112k-140k'])\n",
    "loan_dataFrame['open_acc_groups'] = pd.cut(loan_dataFrame['open_acc'],bins = 5,precision =0,labels=['2-10','10-19','19-27','27-36','36-44'])\n",
    "loan_dataFrame['revol_util_groups'] = pd.cut(loan_dataFrame['revol_util'], bins=5,precision =0,labels=['0-20','20-40','40-60','60-80','80-100'])\n",
    "loan_dataFrame['total_acc_groups'] = pd.cut(loan_dataFrame['total_acc'], bins=5,precision =0,labels=['2-20','20-37','37-55','55-74','74-90'])"
   ]
  },
  {
   "cell_type": "markdown",
   "id": "6e9e4e1f-a854-4c0f-bb39-8cbd99c66174",
   "metadata": {},
   "source": [
    "## 4. Data Visualization and Analysis"
   ]
  },
  {
   "cell_type": "markdown",
   "id": "d39ea1ca-b791-4ff1-afb5-4e1588314025",
   "metadata": {},
   "source": [
    "### Univariate Analysis"
   ]
  },
  {
   "cell_type": "code",
   "execution_count": null,
   "id": "46fead02-0afb-4eb4-984b-761a7873596f",
   "metadata": {},
   "outputs": [],
   "source": [
    "# Starting with loan_amnt - Loan amount(The listed amount of the loan applied for by the borrower.)\n",
    "\n",
    "# 1. Descriptive Statistics\n",
    "print(\"Descriptive Statistics:\")\n",
    "print(loan_dataFrame[\"loan_amnt\"].describe())\n",
    "\n",
    "# 2. Histogram using Matplotlib\n",
    "plt.figure(figsize=(8, 6))\n",
    "sns.histplot(loan_dataFrame[\"loan_amnt\"], bins=10, kde=True)\n",
    "plt.title('Histogram of loan_amnt')\n",
    "plt.xlabel('loan_amnt')\n",
    "plt.ylabel('Frequency')\n",
    "plt.show()"
   ]
  },
  {
   "cell_type": "markdown",
   "id": "6fe3ba34-b346-42db-ac88-61da01e13629",
   "metadata": {},
   "source": [
    "#### Inference: The loan amount varies from 500 to 35000 with a mean of 9600."
   ]
  },
  {
   "cell_type": "code",
   "execution_count": null,
   "id": "bde4d1cd-19ff-460d-ba09-342600b303e7",
   "metadata": {},
   "outputs": [],
   "source": [
    "# funded_amnt - funded amount (The total amount committed to that loan at that point in time.)\n",
    "\n",
    "# 1. Descriptive Statistics\n",
    "print(\"Descriptive Statistics:\")\n",
    "print(loan_dataFrame[\"funded_amnt\"].describe())\n",
    "\n",
    "# 2. Histogram using Matplotlib\n",
    "plt.figure(figsize=(8, 6))\n",
    "sns.histplot(loan_dataFrame[\"funded_amnt\"], bins=10, kde=True)\n",
    "plt.title('Histogram of funded_amnt')\n",
    "plt.xlabel('funded_amnt')\n",
    "plt.ylabel('Frequency')\n",
    "plt.show()\n"
   ]
  },
  {
   "cell_type": "markdown",
   "id": "1c455c73-ee2a-48b0-9ba7-52595a3d6663",
   "metadata": {},
   "source": [
    "#### Inference: The funded_amnt varies from 500 to 35000 with a mean of 9500."
   ]
  },
  {
   "cell_type": "code",
   "execution_count": null,
   "id": "1123d290-5189-44b7-9504-793ba68d65bd",
   "metadata": {},
   "outputs": [],
   "source": [
    "# term - Loan term (The number of payments on the loan. Values are in months and can be either 36 or 60..)\n",
    "\n",
    "# 1. Descriptive Statistics\n",
    "print(loan_dataFrame.term.value_counts()*100/loan_dataFrame.term.count())\n",
    "\n",
    "# Create the countplot\n",
    "sns.countplot(x='term', data=loan_dataFrame)\n",
    "plt.show()"
   ]
  },
  {
   "cell_type": "markdown",
   "id": "9640d056-b81a-4d76-bf75-28ba35754b05",
   "metadata": {},
   "source": [
    "#### Inference: More than 75% of the loans have been taken for 36 months compared to 60 months of term."
   ]
  },
  {
   "cell_type": "code",
   "execution_count": null,
   "id": "d2340ee1-cb37-466b-a9f4-653a14c12dcb",
   "metadata": {},
   "outputs": [],
   "source": [
    "# int_rate - Interest rate (Interest Rate on the loan.)\n",
    "\n",
    "# 1. Descriptive Statistics\n",
    "print(\"Descriptive Statistics:\")\n",
    "print(loan_dataFrame[\"int_rate\"].describe())\n",
    "\n",
    "# 2. Histogram using Matplotlib\n",
    "\n",
    "sns.histplot(loan_dataFrame[\"int_rate\"], bins=10, kde=True)\n",
    "plt.title('Histogram of int_rate')\n",
    "plt.xlabel('int_rate')\n",
    "plt.ylabel('Frequency')\n",
    "plt.show()"
   ]
  },
  {
   "attachments": {},
   "cell_type": "markdown",
   "id": "2041543b-6998-4935-82dd-4c7254b23b8e",
   "metadata": {},
   "source": [
    "#### Inference: The highest interest rate is more than 24% and minimum is just more than 5%. Most Borrowers have taken loan at 12.5% and least at just less than 25%."
   ]
  },
  {
   "cell_type": "code",
   "execution_count": null,
   "id": "f4cdb7cc-4212-479c-9231-4a17bd730ccf",
   "metadata": {},
   "outputs": [],
   "source": [
    "# int_rate - Interest rate (Interest Rate on the loan.)\n",
    "# Created BINS to help in better analyzing the data and put it in int_rate_groups column\n",
    "\n",
    "# 1. Descriptive Statistics\n",
    "print(loan_dataFrame.int_rate_groups.value_counts()*100/loan_dataFrame.int_rate_groups.count())\n",
    "\n",
    "# Create the countplot\n",
    "plt.figure(figsize=(10,6))\n",
    "sns.countplot(x='int_rate_groups', data=loan_dataFrame)\n",
    "plt.xlabel('int_rate_groups')\n",
    "plt.ylabel('count')\n",
    "plt.show()"
   ]
  },
  {
   "cell_type": "markdown",
   "id": "83d53533-be93-4535-89d0-119200324d2c",
   "metadata": {},
   "source": [
    "#### Inference: Most people have taken loan at interest rate of 9%-13%."
   ]
  },
  {
   "cell_type": "code",
   "execution_count": null,
   "id": "d0d7e212-98ee-45a3-9f4f-3007f8196008",
   "metadata": {},
   "outputs": [],
   "source": [
    "# installment - installment (The monthly payment owed by the borrower if the loan originates.)\n",
    "\n",
    "# 1. Descriptive Statistics\n",
    "print(\"Descriptive Statistics:\")\n",
    "print(loan_dataFrame[\"installment\"].describe())\n",
    "\n",
    "# 2. Histogram using Matplotlib\n",
    "\n",
    "sns.histplot(loan_dataFrame[\"installment\"], bins=10, kde=True)\n",
    "plt.title('Histogram of installment')\n",
    "plt.xlabel('installment')\n",
    "plt.ylabel('Frequency')\n",
    "plt.show()"
   ]
  },
  {
   "cell_type": "markdown",
   "id": "213c79ba-2f8c-4170-ba19-33d1bb5986c2",
   "metadata": {},
   "source": [
    "#### Inference: The highest montly installment is more than 1305 and minimum is just more than 15."
   ]
  },
  {
   "cell_type": "code",
   "execution_count": null,
   "id": "298186a8-cfab-4ff5-a846-74b2d268a925",
   "metadata": {},
   "outputs": [],
   "source": [
    "# grade - grade (LC assigned loan grade.)\n",
    "\n",
    "# 1. Descriptive Statistics\n",
    "print(\"Descriptive Statistics:\")\n",
    "print(loan_dataFrame[\"grade\"].describe())\n",
    "\n",
    "# 1. Descriptive Statistics\n",
    "print(loan_dataFrame.grade.value_counts()*100/loan_dataFrame.grade.count())\n",
    "\n",
    "# Create the countplot\n",
    "sns.countplot(x='grade', data=loan_dataFrame)\n",
    "plt.show()"
   ]
  },
  {
   "cell_type": "markdown",
   "id": "e9aa8c2c-bfec-43d1-ad3e-cd65123b8ce4",
   "metadata": {},
   "source": [
    "#### Inference: The \"B\" grade loans are highest with more than 30% and \"G\" lowest."
   ]
  },
  {
   "cell_type": "code",
   "execution_count": null,
   "id": "45a027b8-6ebb-49c2-8885-1093d52d4b95",
   "metadata": {},
   "outputs": [],
   "source": [
    "# sub_grade - sub grade (LC assigned loan subgrade.)\n",
    "\n",
    "# 1. Descriptive Statistics\n",
    "print(\"Descriptive Statistics:\")\n",
    "print(loan_dataFrame[\"sub_grade\"].describe())\n",
    "\n",
    "# 1. Descriptive Statistics\n",
    "print(loan_dataFrame.sub_grade.value_counts()*100/loan_dataFrame.sub_grade.count())\n",
    "\n",
    "# Create the countplot\n",
    "plt.figure(figsize=(12,6))\n",
    "sns.countplot(x='sub_grade', data=loan_dataFrame)\n",
    "plt.show()"
   ]
  },
  {
   "cell_type": "markdown",
   "id": "6739f1d9-d4e5-4388-89ec-b8d949f34914",
   "metadata": {},
   "source": [
    "#### Inference: Most loans are in \"A\" and \"B\" Sub grade but highest in \"A4\"."
   ]
  },
  {
   "cell_type": "code",
   "execution_count": null,
   "id": "a53ae7d3-a10b-40db-b0e3-68f281ad3bae",
   "metadata": {},
   "outputs": [],
   "source": [
    "# emp_length - employement duration of borrowers (Employment length in years)\n",
    "\n",
    "# 1. Descriptive Statistics\n",
    "print(\"Descriptive Statistics:\")\n",
    "print(loan_dataFrame[\"emp_length\"].describe())\n",
    "\n",
    "# 1. Descriptive Statistics\n",
    "print(loan_dataFrame.emp_length.value_counts()*100/loan_dataFrame.emp_length.count())\n",
    "\n",
    "# Create the countplot\n",
    "plt.figure(figsize=(12,6))\n",
    "sns.countplot(x='emp_length', data=loan_dataFrame)\n",
    "plt.show()"
   ]
  },
  {
   "cell_type": "markdown",
   "id": "5f7df4a8-7456-4598-9d2a-43635e469ee2",
   "metadata": {},
   "source": [
    "#### Inference: Most of the borrowers have work experience greater than 10 years."
   ]
  },
  {
   "cell_type": "code",
   "execution_count": null,
   "id": "8ea72107-6307-4cac-b783-ffbf6e24ec57",
   "metadata": {},
   "outputs": [],
   "source": [
    "# home_ownership - home ownership of borrowers (The home ownership status provided by the borrower during registration. Our values are: RENT, OWN, MORTGAGE, OTHER.)\n",
    "\n",
    "# 1. Descriptive Statistics\n",
    "print(\"Descriptive Statistics:\")\n",
    "print(loan_dataFrame[\"home_ownership\"].describe())\n",
    "\n",
    "# 1. Descriptive Statistics\n",
    "print(loan_dataFrame.home_ownership.value_counts()*100/loan_dataFrame.home_ownership.count())\n",
    "\n",
    "# Create the countplot\n",
    "plt.figure(figsize=(12,6))\n",
    "sns.countplot(x='home_ownership', data=loan_dataFrame)\n",
    "plt.show()"
   ]
  },
  {
   "cell_type": "markdown",
   "id": "4c526471-a6ef-4183-9d7b-663f3b0a332a",
   "metadata": {},
   "source": [
    "#### Inference: Most of the borrowers are not owing house but on either mortgage or rent."
   ]
  },
  {
   "cell_type": "code",
   "execution_count": null,
   "id": "20c5bb19-0283-420a-846d-d51d5fbb0023",
   "metadata": {},
   "outputs": [],
   "source": [
    "# annual_inc - annual income of borrowers (The self-reported annual income provided by the borrower during registration.)\n",
    "\n",
    "# 1. Descriptive Statistics\n",
    "print(\"Descriptive Statistics:\")\n",
    "print(loan_dataFrame[\"annual_inc\"].describe())\n",
    "\n",
    "# 2. Histogram using Matplotlib\n",
    "\n",
    "sns.histplot(loan_dataFrame[\"annual_inc\"], bins=10, kde=True)\n",
    "plt.title('Histogram of annual_inc')\n",
    "plt.xlabel('annual_inc')\n",
    "plt.ylabel('Frequency')\n",
    "plt.show()"
   ]
  },
  {
   "cell_type": "markdown",
   "id": "689f56e9-261d-4bc3-b71d-3dd80b1bbc80",
   "metadata": {},
   "source": [
    "#### Inference: Most of the borrowers are in low income range of around 60k. "
   ]
  },
  {
   "cell_type": "code",
   "execution_count": null,
   "id": "2dfaab13-bf5c-4533-b486-88655f438509",
   "metadata": {},
   "outputs": [],
   "source": [
    "# annual_inc - annual income of borrowers (The self-reported annual income provided by the borrower during registration.)\n",
    "# Created BINS to help in better analyzing the data and put it in annual_inc_groups column\n",
    "\n",
    "# 1. Descriptive Statistics\n",
    "print(loan_dataFrame.annual_inc_groups.value_counts()*100/loan_dataFrame.annual_inc_groups.count())\n",
    "\n",
    "# Create the countplot\n",
    "plt.figure(figsize=(10,6))\n",
    "sns.countplot(x='annual_inc_groups', data=loan_dataFrame)\n",
    "plt.xlabel('annual_inc_groups')\n",
    "plt.ylabel('count')\n",
    "plt.show()"
   ]
  },
  {
   "cell_type": "markdown",
   "id": "0f6cf6c3-18d7-4ebc-8a05-34fa86d86c62",
   "metadata": {},
   "source": [
    "#### Inference: Most of the borrowers are in the range of 3k-85k. "
   ]
  },
  {
   "cell_type": "code",
   "execution_count": null,
   "id": "435c4cf8-4329-43dc-a0a5-4230efb9de54",
   "metadata": {},
   "outputs": [],
   "source": [
    "# verification_status - verification status (Indicates if income was verified by LC, not verified, or if the income source was verified)\n",
    "# 1. Descriptive Statistics\n",
    "print(\"Descriptive Statistics:\")\n",
    "print(loan_dataFrame[\"verification_status\"].describe())\n",
    "\n",
    "# 1. Descriptive Statistics\n",
    "print(loan_dataFrame.verification_status.value_counts()*100/loan_dataFrame.verification_status.count())\n",
    "\n",
    "# Create the countplot\n",
    "plt.figure(figsize=(12,6))\n",
    "sns.countplot(x='verification_status', data=loan_dataFrame)\n",
    "plt.show()"
   ]
  },
  {
   "cell_type": "markdown",
   "id": "6dcd24bb-fe00-4171-bd08-0f196f112804",
   "metadata": {},
   "source": [
    "#### Inference: More than 50% of the borrower's income or source is verified.But massive 43% are not verified."
   ]
  },
  {
   "cell_type": "code",
   "execution_count": null,
   "id": "b820e0bc-73ca-43c5-957d-54c88f53913e",
   "metadata": {},
   "outputs": [],
   "source": [
    "# issue_month - loan issue month (The month which the loan was funded) - Derived column from issue_d column\n",
    "\n",
    "# 1. Descriptive Statistics\n",
    "print(loan_dataFrame.issue_month.value_counts()*100/loan_dataFrame.issue_month.count())\n",
    "\n",
    "# Create the countplot\n",
    "plt.figure(figsize=(12,6))\n",
    "sns.countplot(x='issue_month', data=loan_dataFrame)\n",
    "plt.show()"
   ]
  },
  {
   "cell_type": "markdown",
   "id": "39edc468-f30a-4ba4-ae3d-328871fc6acc",
   "metadata": {},
   "source": [
    "#### Inference: The loan approval increased every month. And most loans were approved in 2nd half of the year."
   ]
  },
  {
   "cell_type": "code",
   "execution_count": null,
   "id": "c5d2a2f0-ef42-44c5-a637-49e8ad27e3da",
   "metadata": {},
   "outputs": [],
   "source": [
    "# issue_year - loan issue year (The year which the loan was funded) - Derived column from issue_d column\n",
    "\n",
    "# 1. Descriptive Statistics\n",
    "print(loan_dataFrame.issue_year.value_counts()*100/loan_dataFrame.issue_year.count())\n",
    "\n",
    "# Create the countplot\n",
    "plt.figure(figsize=(12,6))\n",
    "sns.countplot(x='issue_year', data=loan_dataFrame)\n",
    "plt.show()"
   ]
  },
  {
   "cell_type": "markdown",
   "id": "beedc2fd-d549-4bd2-9667-8b0548746024",
   "metadata": {},
   "source": [
    "#### Inference: More than 50% of the loans were sanctioned in 2011. The loan approval increased every year."
   ]
  },
  {
   "cell_type": "code",
   "execution_count": null,
   "id": "1ff2d756-3686-4fd5-9a3c-50f45d97688b",
   "metadata": {},
   "outputs": [],
   "source": [
    "# loan_status - loan status (Current status of the loan)\n",
    "\n",
    "# 1. Descriptive Statistics\n",
    "print(loan_dataFrame.loan_status.value_counts()*100/loan_dataFrame.loan_status.count())\n",
    "\n",
    "# Create the countplot\n",
    "plt.figure(figsize=(12,6))\n",
    "sns.countplot(x='loan_status', data=loan_dataFrame)\n",
    "plt.show()"
   ]
  },
  {
   "cell_type": "markdown",
   "id": "e9afa4bd-5492-413d-8a8e-510c298f50c5",
   "metadata": {},
   "source": [
    "#### Inference: More than 85% loan were fully paid and around 15% Charged Off."
   ]
  },
  {
   "cell_type": "code",
   "execution_count": null,
   "id": "190c90fb-af24-4579-b1fc-ff1ca13dcd8f",
   "metadata": {},
   "outputs": [],
   "source": [
    "# purpose - loan purpose (purpose of the loan)\n",
    "\n",
    "# 1. Descriptive Statistics\n",
    "print(loan_dataFrame.purpose.value_counts()*100/loan_dataFrame.purpose.count())\n",
    "\n",
    "# Create the countplot\n",
    "plt.figure(figsize=(12,6))\n",
    "sns.countplot(y='purpose', data=loan_dataFrame)\n",
    "plt.xlabel('count')\n",
    "plt.ylabel('purpose')\n",
    "plt.show()"
   ]
  },
  {
   "cell_type": "markdown",
   "id": "7b96c810-43e1-4052-bd47-3b1eb45cdba2",
   "metadata": {},
   "source": [
    "#### Inference: More than 46% of the loans were for debt_consolidation."
   ]
  },
  {
   "cell_type": "code",
   "execution_count": null,
   "id": "aa46e833-56f5-449a-8759-9aae70913fa8",
   "metadata": {},
   "outputs": [],
   "source": [
    "# addr_state - state of the borrower (The state provided by the borrower in the loan application)\n",
    "\n",
    "# 1. Descriptive Statistics\n",
    "print(loan_dataFrame.addr_state.value_counts()*100/loan_dataFrame.addr_state.count())\n",
    "\n",
    "# Create the countplot\n",
    "plt.figure(figsize=(12,10))\n",
    "sns.countplot(y='addr_state', data=loan_dataFrame)\n",
    "plt.xlabel('count')\n",
    "plt.ylabel('addr_state')\n",
    "plt.show()"
   ]
  },
  {
   "cell_type": "markdown",
   "id": "0bc37add-ea97-4492-84b5-08e7e105d580",
   "metadata": {},
   "source": [
    "#### Inference: More than 18% of the borrowers are from CA which is highest"
   ]
  },
  {
   "cell_type": "code",
   "execution_count": null,
   "id": "e816a46b-a6b5-49a4-9c41-4e26daf05a80",
   "metadata": {},
   "outputs": [],
   "source": [
    "# dti - (A ratio calculated using the borrower’s total monthly debt payments on the total debt obligations, excluding mortgage and the requested LC loan, divided by the borrower’s self-reported monthly income.)\n",
    "\n",
    "# 1. Descriptive Statistics\n",
    "print(\"Descriptive Statistics:\")\n",
    "print(loan_dataFrame[\"dti\"].describe())\n",
    "\n",
    "# 2. Histogram using Matplotlib\n",
    "\n",
    "sns.histplot(loan_dataFrame[\"dti\"], bins=10, kde=True)\n",
    "plt.title('Histogram of installment')\n",
    "plt.xlabel('dti')\n",
    "plt.ylabel('Frequency')\n",
    "plt.show()"
   ]
  },
  {
   "cell_type": "markdown",
   "id": "3f1af524-6100-43df-84fb-1ab5456c2eac",
   "metadata": {},
   "source": [
    "#### Inference: Most of the borrowers are in debt."
   ]
  },
  {
   "cell_type": "code",
   "execution_count": null,
   "id": "277719c6-972c-434e-8258-baa8115dce8d",
   "metadata": {},
   "outputs": [],
   "source": [
    "# inq_last_6mths - borrower credit inquiry(The number of inquiries in past 6 months (excluding auto and mortgage inquiries))\n",
    "\n",
    "# 1. Descriptive Statistics\n",
    "print(loan_dataFrame.inq_last_6mths.value_counts()*100/loan_dataFrame.inq_last_6mths.count())\n",
    "\n",
    "# Create the countplot\n",
    "plt.figure(figsize=(6,4))\n",
    "sns.countplot(x='inq_last_6mths', data=loan_dataFrame)\n",
    "plt.xlabel('count')\n",
    "plt.ylabel('inq_last_6mths')\n",
    "plt.show()"
   ]
  },
  {
   "cell_type": "markdown",
   "id": "39c5f0fb-a4c9-476b-9501-ba4009944729",
   "metadata": {},
   "source": [
    "#### Inference: Around 42% of the borrowers had recent credit inquiries"
   ]
  },
  {
   "cell_type": "code",
   "execution_count": null,
   "id": "b8459d20-f8b8-4615-a2e0-864e5953b8d6",
   "metadata": {},
   "outputs": [],
   "source": [
    "# open_acc - (The number of open credit lines in the borrower's credit file.)\n",
    "# Created BINS to help in better analyzing the data and put it in open_acc_groups column\n",
    "\n",
    "# 1. Descriptive Statistics\n",
    "print(loan_dataFrame.open_acc_groups.value_counts()*100/loan_dataFrame.open_acc_groups.count())\n",
    "\n",
    "# Create the countplot\n",
    "plt.figure(figsize=(10,6))\n",
    "sns.countplot(x='open_acc_groups', data=loan_dataFrame)\n",
    "plt.ylabel('count')\n",
    "plt.xlabel('open_acc_groups')\n",
    "plt.show()"
   ]
  },
  {
   "cell_type": "markdown",
   "id": "1d3a2f74-32ec-431c-a6d5-a27ddfd9fe31",
   "metadata": {},
   "source": [
    "#### Inference: Many borrowers have open credit lines and 66% have between 2-10 credit line open."
   ]
  },
  {
   "cell_type": "code",
   "execution_count": null,
   "id": "e3620c0e-11c8-4f85-b262-ca23b96262fc",
   "metadata": {},
   "outputs": [],
   "source": [
    "# revol_util - (Revolving line utilization rate, or the amount of credit the borrower is using relative to all available revolving credit.)\n",
    "# Created BINS to help in better analyzing the data and put it in revol_util_groups column\n",
    "\n",
    "# 1. Descriptive Statistics\n",
    "print(loan_dataFrame.revol_util_groups.value_counts()*100/loan_dataFrame.revol_util_groups.count())\n",
    "\n",
    "# Create the countplot\n",
    "plt.figure(figsize=(10,6))\n",
    "sns.countplot(x='revol_util_groups', data=loan_dataFrame)\n",
    "plt.xlabel('revol_util_groups')\n",
    "plt.ylabel('count')\n",
    "plt.show()"
   ]
  },
  {
   "cell_type": "markdown",
   "id": "543e293b-9f4b-461c-8e67-08ac6c9594e1",
   "metadata": {},
   "source": [
    "#### Inference: Most of the borrowers are using some form of credits out of all revolving credit."
   ]
  },
  {
   "cell_type": "code",
   "execution_count": null,
   "id": "a1afa6b2-0bb9-4771-9620-dfc3fdb0f38f",
   "metadata": {},
   "outputs": [],
   "source": [
    "# total_acc - (The total number of credit lines currently in the borrower's credit file.)\n",
    "# Created BINS to help in better analyzing the data and put it in total_acc_groups column\n",
    "\n",
    "# 1. Descriptive Statistics\n",
    "print(loan_dataFrame.total_acc_groups.value_counts()*100/loan_dataFrame.total_acc_groups.count())\n",
    "\n",
    "# Create the countplot\n",
    "plt.figure(figsize=(10,6))\n",
    "sns.countplot(x='total_acc_groups', data=loan_dataFrame)\n",
    "plt.xlabel('total_acc_groups')\n",
    "plt.ylabel('count')\n",
    "plt.show()"
   ]
  },
  {
   "cell_type": "markdown",
   "id": "fb2cb722-9c76-426d-8443-d83c8d9dfbb5",
   "metadata": {},
   "source": [
    "#### Inference: Most of the borrowers have credit lines ranging from 2-90"
   ]
  },
  {
   "cell_type": "code",
   "execution_count": null,
   "id": "2f314d4a-cb1f-472e-9394-f1572cae084d",
   "metadata": {},
   "outputs": [],
   "source": [
    "# pub_rec_bankruptcies - (Number of public record bankruptcies.)\n",
    "\n",
    "# 1. Descriptive Statistics\n",
    "print(loan_dataFrame.pub_rec_bankruptcies.value_counts()*100/loan_dataFrame.pub_rec_bankruptcies.count())\n",
    "\n",
    "# Create the countplot\n",
    "plt.figure(figsize=(8,6))\n",
    "sns.countplot(x='pub_rec_bankruptcies', data=loan_dataFrame)\n",
    "plt.xlabel('pub_rec_bankruptcies')\n",
    "plt.ylabel('count')\n",
    "plt.show()"
   ]
  },
  {
   "cell_type": "markdown",
   "id": "ce2e4224-e233-4c53-86ca-766f7d25deb5",
   "metadata": {},
   "source": [
    "#### Inference: Most borrowers have 0 public record bankruptcies"
   ]
  },
  {
   "cell_type": "markdown",
   "id": "7881efa7-0ff8-4df7-9262-fa32947c86bf",
   "metadata": {},
   "source": [
    "### Segmented Univariate Analysis"
   ]
  },
  {
   "cell_type": "code",
   "execution_count": null,
   "id": "38b4b073-b28d-4142-a0f7-948f7d9a8ab1",
   "metadata": {},
   "outputs": [],
   "source": [
    "# pub_rec_bankruptcies based on loan_status\n",
    "plt.figure(figsize=(10,8))\n",
    "sns.countplot(data=loan_dataFrame,x='pub_rec_bankruptcies',hue='loan_status')\n",
    "plt.xlabel('pub_rec_bankruptcies')\n",
    "plt.ylabel('count')\n",
    "plt.title('pub_rec_bankruptcies vs loan_status ',fontsize=12)\n",
    "plt.show()"
   ]
  },
  {
   "cell_type": "markdown",
   "id": "9e18ad32-aa6b-460e-afa9-fc845cc01a70",
   "metadata": {},
   "source": [
    "#### Inference: we can see that Borrowers having pub_rec_bankruptcies are more likely to default."
   ]
  },
  {
   "cell_type": "code",
   "execution_count": null,
   "id": "26e07a57-418f-457e-a2f0-c903eb5a8251",
   "metadata": {},
   "outputs": [],
   "source": [
    "# loan_amnt based on loan_status\n",
    "plt.figure(figsize=(10,6))\n",
    "sns.boxplot(data=loan_dataFrame,x='loan_amnt',y='loan_status')\n",
    "plt.xlabel('loan_amnt')\n",
    "plt.ylabel('loan_status')\n",
    "plt.title('loan_amnt vs loan_status',fontsize=12)\n",
    "plt.show()"
   ]
  },
  {
   "cell_type": "markdown",
   "id": "96bc0e0e-2967-445c-9ea7-a70ee860f290",
   "metadata": {},
   "source": [
    "#### Inference: we can see that 75% percentile is edging towards right in the defaulted loan.So we can deduce that large amount of loan has higher chance of defaulting."
   ]
  },
  {
   "cell_type": "code",
   "execution_count": null,
   "id": "1a3e7bd6-375a-4e2f-b185-c1045770725f",
   "metadata": {},
   "outputs": [],
   "source": [
    "# purpose based on loan_status\n",
    "plt.figure(figsize=(10,8))\n",
    "sns.countplot(data=loan_dataFrame,y='purpose',hue='loan_status')\n",
    "plt.xlabel('Count')\n",
    "plt.ylabel('purpose')\n",
    "plt.title('purpose vs loan_status ',fontsize=12)\n",
    "plt.show()"
   ]
  },
  {
   "cell_type": "markdown",
   "id": "a858201b-92ca-4be3-a98f-e047fc4fc1ca",
   "metadata": {},
   "source": [
    "#### Inference: we can say that Borrowers who take small_business loans have higher chance of defaulting."
   ]
  },
  {
   "cell_type": "code",
   "execution_count": null,
   "id": "0e0dae5a-d708-41db-83b4-98c4262466b4",
   "metadata": {},
   "outputs": [],
   "source": [
    "# term based on loan_status\n",
    "plt.figure(figsize=(10,8))\n",
    "sns.countplot(data=loan_dataFrame,x='term',hue='loan_status')\n",
    "plt.xlabel('term')\n",
    "plt.ylabel('Count')\n",
    "plt.title('term vs loan_status',fontsize=12)\n",
    "plt.show()"
   ]
  },
  {
   "cell_type": "markdown",
   "id": "006c4d5f-d578-40fb-9fb8-f84a3d317f58",
   "metadata": {},
   "source": [
    "#### Inference: we can say that 60 month loan term has higher chance of defaulting."
   ]
  },
  {
   "cell_type": "code",
   "execution_count": null,
   "id": "5894619d-dcb8-4d2e-8e9e-21100a9c5985",
   "metadata": {},
   "outputs": [],
   "source": [
    "# grade vs loan_status\n",
    "plt.figure(figsize=(10,8))\n",
    "sns.countplot(data=loan_dataFrame,x='grade',hue='loan_status')\n",
    "plt.xlabel('grade')\n",
    "plt.ylabel('Count')\n",
    "plt.title('grade vs loan_status',fontsize=12)\n",
    "plt.show()"
   ]
  },
  {
   "cell_type": "markdown",
   "id": "b3a7a241-5f75-4c43-8832-5cd717655ca5",
   "metadata": {},
   "source": [
    "#### Inference: we can say that Grade F,D,G have higher chance of defaulting with G the highest."
   ]
  },
  {
   "cell_type": "code",
   "execution_count": null,
   "id": "3505b300-c250-4b67-9769-e1efdb20852f",
   "metadata": {},
   "outputs": [],
   "source": [
    "# dti vs loan_status\n",
    "plt.figure(figsize=(10,8))\n",
    "sns.histplot(data=loan_dataFrame,x='dti',hue='loan_status',bins=20)\n",
    "plt.xlabel('dti')\n",
    "plt.ylabel('Count')\n",
    "plt.title('dti vs loan_status',fontsize=12)\n",
    "plt.show()"
   ]
  },
  {
   "cell_type": "markdown",
   "id": "93c3151b-6c4b-4360-87c0-a29abbff7065",
   "metadata": {},
   "source": [
    "#### Inference: we can say that loans in dti of 15 has higher chance of defaulting."
   ]
  },
  {
   "cell_type": "code",
   "execution_count": null,
   "id": "608bda38-d5ee-44dc-b38a-272660ee2d64",
   "metadata": {},
   "outputs": [],
   "source": [
    "# house_ownership vs loan_status\n",
    "plt.figure(figsize=(10,8))\n",
    "sns.countplot(data=loan_dataFrame,x='home_ownership',hue='loan_status')\n",
    "plt.xlabel('home_ownership')\n",
    "plt.ylabel('Count')\n",
    "plt.title('home_ownership vs loan_status',fontsize=12)\n",
    "plt.show()"
   ]
  },
  {
   "cell_type": "markdown",
   "id": "36f3bc25-e82d-415f-ad39-c1f83798740d",
   "metadata": {},
   "source": [
    "#### Inference: we can say that borrowers who are on RENT has higher chance of defaulting compared to Mortgage or own house."
   ]
  },
  {
   "cell_type": "code",
   "execution_count": null,
   "id": "2a35fa87-d4a5-4390-a2e9-8d437ea3f2e2",
   "metadata": {},
   "outputs": [],
   "source": [
    "# annual_inc based on loan_status\n",
    "plt.figure(figsize=(10,8))\n",
    "sns.histplot(data=loan_dataFrame,x='annual_inc',hue='loan_status',bins=20,kde=True)\n",
    "plt.xlabel('annual_inc')\n",
    "plt.ylabel('Count')\n",
    "plt.title('annual_inc vs loan_status')\n",
    "plt.show()"
   ]
  },
  {
   "cell_type": "markdown",
   "id": "02e618a7-2c57-4d3a-a5fd-5b4e14850cbb",
   "metadata": {},
   "source": [
    "#### Inference: we can say that higher income borrowers are less likely to default."
   ]
  },
  {
   "cell_type": "code",
   "execution_count": null,
   "id": "11549d3f-ac9c-4be0-b933-0d6d45d0d25f",
   "metadata": {},
   "outputs": [],
   "source": [
    "# int_rate based on loan_status\n",
    "plt.figure(figsize=(10,5))\n",
    "sns.histplot(data=loan_dataFrame,x='int_rate',hue='loan_status', bins=20, kde=True)\n",
    "plt.xlabel('int_rate')\n",
    "plt.ylabel('Count')\n",
    "plt.title('int_rate vs loan_status',fontsize=10)\n",
    "plt.show()"
   ]
  },
  {
   "cell_type": "markdown",
   "id": "86fd3c75-a68c-4179-8bee-b6e6d8f13df6",
   "metadata": {},
   "source": [
    "#### Inference: we can say that borrowers with High interest specifically above 17.5 are more likely to default."
   ]
  },
  {
   "cell_type": "code",
   "execution_count": null,
   "id": "cfbc8d81-7f41-416d-abc7-64e5a98f6ab5",
   "metadata": {},
   "outputs": [],
   "source": [
    "# emp_length vs loan_status\n",
    "plt.figure(figsize=(10,5))\n",
    "sns.countplot(data=loan_dataFrame,x='emp_length',hue='loan_status')\n",
    "plt.xlabel('emp_length')\n",
    "plt.ylabel('Count')\n",
    "plt.title('emp_length vs loan_status',fontsize=10)\n",
    "plt.show()"
   ]
  },
  {
   "cell_type": "markdown",
   "id": "0253dcce-a59b-4afd-895d-95feb756b148",
   "metadata": {},
   "source": [
    "#### Inference: we can say that borrowers with experience of 10+ years are more likely to default."
   ]
  },
  {
   "cell_type": "code",
   "execution_count": null,
   "id": "1a38ad57-e3bf-4b20-89c1-2afa9be58ac8",
   "metadata": {},
   "outputs": [],
   "source": [
    "# issue_month vs loan_status\n",
    "plt.figure(figsize=(10,8))\n",
    "sns.countplot(data=loan_dataFrame,x='issue_month',hue='loan_status')\n",
    "plt.xlabel('issue_month')\n",
    "plt.ylabel('Count')\n",
    "plt.title('issue_month vs loan_status',fontsize=10)\n",
    "plt.show()"
   ]
  },
  {
   "cell_type": "markdown",
   "id": "1eb51394-6ded-4c38-a6c5-9d067b7b2265",
   "metadata": {},
   "source": [
    "#### Inference: we can say that most defaults and Fully paid was in december month.|"
   ]
  },
  {
   "cell_type": "code",
   "execution_count": null,
   "id": "eacee055-37d1-420e-ae96-e9e9c23b27ab",
   "metadata": {},
   "outputs": [],
   "source": [
    "# issue_year vs loan_status\n",
    "plt.figure(figsize=(10,8))\n",
    "sns.countplot(data=loan_dataFrame,x='issue_year',hue='loan_status')\n",
    "plt.xlabel('issue_year')\n",
    "plt.ylabel('Count')\n",
    "plt.title('issue_year vs loan_status',fontsize=10)\n",
    "plt.show()"
   ]
  },
  {
   "cell_type": "markdown",
   "id": "b19d5d08-b201-43ab-93be-e7134cdf80c0",
   "metadata": {},
   "source": [
    "#### Inference: we can say that most defaults and fullypaid was in year 2011."
   ]
  },
  {
   "cell_type": "code",
   "execution_count": null,
   "id": "37a8b14c-60bf-4646-9145-c2d2a0bd3d15",
   "metadata": {},
   "outputs": [],
   "source": [
    "# addr_state vs loan_status\n",
    "plt.figure(figsize=(15,10))\n",
    "sns.countplot(data=loan_dataFrame,x='addr_state',hue='loan_status')\n",
    "plt.xlabel('addr_state')\n",
    "plt.ylabel('Count')\n",
    "plt.title('addr_state vs loan_status',fontsize=10)\n",
    "plt.show()"
   ]
  },
  {
   "cell_type": "markdown",
   "id": "5975e850-7ee8-4c76-a2a7-ed183e858093",
   "metadata": {},
   "source": [
    "#### Inference: we can say that major borrowers are from CA, FL and NY."
   ]
  },
  {
   "cell_type": "markdown",
   "id": "6a109659-26a5-4b3d-820c-a4e3809be1ac",
   "metadata": {},
   "source": [
    "### Bivariate Analysis"
   ]
  },
  {
   "cell_type": "code",
   "execution_count": null,
   "id": "f16cfc36-382b-4abd-88de-ae4037c5f141",
   "metadata": {},
   "outputs": [],
   "source": [
    "# Scatter plot using Matplotlib- loan_amnt vs int_rate\n",
    "plt.figure(figsize=(10,6))\n",
    "plt.scatter(loan_dataFrame['loan_amnt'], loan_dataFrame['int_rate'])\n",
    "plt.xlabel('loan_amnt')\n",
    "plt.ylabel('int_rate')\n",
    "plt.title('Scatter Plot')\n",
    "plt.show()"
   ]
  },
  {
   "cell_type": "code",
   "execution_count": null,
   "id": "db8a2ab3-9a5f-49f4-a4c7-533eccd92d32",
   "metadata": {},
   "outputs": [],
   "source": [
    "# Compute the correlation matrix - loan_amnt vs int_rate\n",
    "corr_matrix_loan_int = loan_dataFrame[['loan_amnt', 'int_rate']].corr()\n",
    "print(corr_matrix_loan_int)\n",
    "# Plot the heatmap\n",
    "sns.heatmap(corr_matrix_loan_int, annot=True, cmap='RdBu', vmin=-1, vmax=1)\n",
    "plt.title('Correlation Heatmap')\n",
    "plt.show()\n"
   ]
  },
  {
   "cell_type": "markdown",
   "id": "2d5f3f4d-e5a9-4e27-8640-ccfe1c41724c",
   "metadata": {},
   "source": [
    "#### Inference: we can say that there is a moderate positive correlation between the loan amount and interest rate.As the loan amount increases, the interest rate tends to increase as well, but not very strongly."
   ]
  },
  {
   "cell_type": "code",
   "execution_count": null,
   "id": "faa1d2ce-09fd-49a7-8488-7278e56241d2",
   "metadata": {},
   "outputs": [],
   "source": [
    "# Scatter plot using Matplotlib- loan_amnt vs annual_inc\n",
    "plt.figure(figsize=(10,5))\n",
    "plt.scatter(loan_dataFrame['loan_amnt'], loan_dataFrame['annual_inc'])\n",
    "plt.xlabel('loan_amnt')\n",
    "plt.ylabel('annual_inc')\n",
    "plt.title('Scatter Plot')\n",
    "plt.show()"
   ]
  },
  {
   "cell_type": "code",
   "execution_count": null,
   "id": "36142942-5743-4083-a1ff-4eb7f441bffe",
   "metadata": {},
   "outputs": [],
   "source": [
    "# Compute the correlation matrix - loan_amnt vs annual_inc\n",
    "corr_matrix_loan_anninc = loan_dataFrame[['loan_amnt', 'annual_inc']].corr()\n",
    "print(corr_matrix_loan_anninc)\n",
    "# Plot the heatmap\n",
    "sns.heatmap(corr_matrix_loan_anninc, annot=True, cmap='RdBu', vmin=-1, vmax=1)\n",
    "plt.title('Correlation Heatmap')\n",
    "plt.show()\n"
   ]
  },
  {
   "cell_type": "markdown",
   "id": "28955fd9-9385-4e25-8a0b-f904ffcd2b0a",
   "metadata": {},
   "source": [
    "#### Inference: we can say that there is a moderate positive correlation between the loan amount and annual income. As the annual income increases, the loan amount tends to increase as well, but not very strongly."
   ]
  },
  {
   "cell_type": "code",
   "execution_count": null,
   "id": "64e599d8-cd6f-4f60-846f-2dcb5e41d135",
   "metadata": {},
   "outputs": [],
   "source": [
    "# Scatter plot using Matplotlib- loan_amnt vs dti\n",
    "plt.figure(figsize=(10,5))\n",
    "plt.scatter(loan_dataFrame['loan_amnt'], loan_dataFrame['dti'])\n",
    "plt.xlabel('loan_amnt')\n",
    "plt.ylabel('dti')\n",
    "plt.title('Scatter Plot')\n",
    "plt.show()"
   ]
  },
  {
   "cell_type": "code",
   "execution_count": null,
   "id": "be835984-5132-4fd9-aab7-e9719c1c2674",
   "metadata": {},
   "outputs": [],
   "source": [
    "# Compute the correlation matrix - loan_amnt vs dti\n",
    "corr_matrix_loan_dti = loan_dataFrame[['loan_amnt', 'dti']].corr()\n",
    "print(corr_matrix_loan_dti)\n",
    "# Plot the heatmap\n",
    "sns.heatmap(corr_matrix_loan_dti, annot=True, cmap='RdBu', vmin=-1, vmax=1)\n",
    "plt.title('Correlation Heatmap')\n",
    "plt.show()\n"
   ]
  },
  {
   "cell_type": "markdown",
   "id": "24622cb8-2f86-4d05-9880-6059448c81b3",
   "metadata": {},
   "source": [
    "#### Inference: we can say that this indicates a very weak positive correlation between the loan amount and the debt-to-income ratio.As the debt-to-income ratio increases, the loan amount does not show a strong tendency to increase or decrease."
   ]
  },
  {
   "cell_type": "code",
   "execution_count": null,
   "id": "09ef8392-f7f5-4d33-8191-5564c030417b",
   "metadata": {},
   "outputs": [],
   "source": [
    "# Scatter plot using Matplotlib- loan_amnt vs pub_rec_bankruptcies\n",
    "plt.figure(figsize=(10,5))\n",
    "plt.scatter(loan_dataFrame['loan_amnt'], loan_dataFrame['pub_rec_bankruptcies'])\n",
    "plt.xlabel('loan_amnt')\n",
    "plt.ylabel('pub_rec_bankruptcies')\n",
    "plt.title('Scatter Plot')\n",
    "plt.show()"
   ]
  },
  {
   "cell_type": "code",
   "execution_count": null,
   "id": "fd925f13-e0ac-492d-bdad-76050796ecc6",
   "metadata": {},
   "outputs": [],
   "source": [
    "# Compute the correlation matrix - loan_amnt vs pub_rec_bankruptcies\n",
    "corr_matrix_loan_pub_bank = loan_dataFrame[['loan_amnt', 'pub_rec_bankruptcies']].corr()\n",
    "print(corr_matrix_loan_pub_bank)\n",
    "# Plot the heatmap\n",
    "sns.heatmap(corr_matrix_loan_pub_bank, annot=True, cmap='RdBu', vmin=-1, vmax=1)\n",
    "plt.title('Correlation Heatmap')\n",
    "plt.show()\n"
   ]
  },
  {
   "cell_type": "markdown",
   "id": "58312588-cf59-45e4-8dd7-c1bb19bc5cb4",
   "metadata": {},
   "source": [
    "#### Inference: we can say that this indicates a very weak negative correlation between the loan amount and the number of public record bankruptcies. As the number of public record bankruptcies increases, the loan amount tends to decrease slightly, but the relationship is not strong."
   ]
  },
  {
   "cell_type": "code",
   "execution_count": null,
   "id": "4cd25ed6-3be4-48c0-839d-b0d6a14e45a7",
   "metadata": {},
   "outputs": [],
   "source": [
    "# Scatter plot using Matplotlib- annual_inc vs pub_rec_bankruptcies\n",
    "plt.figure(figsize=(10,5))\n",
    "plt.scatter(loan_dataFrame['annual_inc'], loan_dataFrame['pub_rec_bankruptcies'])\n",
    "plt.xlabel('annual_inc')\n",
    "plt.ylabel('pub_rec_bankruptcies')\n",
    "plt.title('Scatter Plot')\n",
    "plt.show()"
   ]
  },
  {
   "cell_type": "code",
   "execution_count": null,
   "id": "28671fe3-f058-4b2f-8309-f9aaa219e6b1",
   "metadata": {},
   "outputs": [],
   "source": [
    "# Compute the correlation matrix - annual_inc vs pub_rec_bankruptcies\n",
    "corr_matrix_anninc_pubbank = loan_dataFrame[['annual_inc', 'pub_rec_bankruptcies']].corr()\n",
    "print(corr_matrix_anninc_pubbank)\n",
    "# Plot the heatmap\n",
    "sns.heatmap(corr_matrix_anninc_pubbank, annot=True, cmap='RdBu', vmin=-1, vmax=1)\n",
    "plt.title('Correlation Heatmap')\n",
    "plt.show()"
   ]
  },
  {
   "cell_type": "markdown",
   "id": "b3727f94-2307-4512-b7e5-0d14e48d0e92",
   "metadata": {},
   "source": [
    "#### Inference: we can say that this indicates an extremely weak negative correlation between annual income and the number of public record bankruptcies.As the number of public record bankruptcies increases, the annual income tends to decrease slightly, but the relationship is almost negligible."
   ]
  },
  {
   "cell_type": "code",
   "execution_count": null,
   "id": "66f0b02a-e63f-4809-bb5a-76686c5c4e08",
   "metadata": {},
   "outputs": [],
   "source": [
    "# Compute the correlation matrix for all numeric columns\n",
    "corr_matrix_all_numeric_columns = loan_dataFrame[['loan_amnt', 'funded_amnt','term','int_rate','installment','emp_length','annual_inc','dti','inq_last_6mths', 'open_acc', 'revol_util', 'total_acc', 'pub_rec_bankruptcies']].corr()\n",
    "print(corr_matrix_all_numeric_columns)\n",
    "# Plot the heatmap\n",
    "plt.figure(figsize=(8,8))\n",
    "sns.heatmap(corr_matrix_all_numeric_columns, annot=True, cmap='RdBu', vmin=-1, vmax=1)\n",
    "plt.title('Correlation Heatmap')\n",
    "plt.show()"
   ]
  },
  {
   "cell_type": "markdown",
   "id": "28c096a0-9a06-479d-98dc-4c4e8f963b02",
   "metadata": {},
   "source": [
    "### 5. Insights and observations:"
   ]
  },
  {
   "attachments": {},
   "cell_type": "markdown",
   "id": "842162f0-c6e3-4433-99a5-9201dc479cb1",
   "metadata": {},
   "source": [
    "#### Univariate Analysis\n",
    "- More than 75% of the loans have been taken for 36 months compared to 60 months of term.\n",
    "- The highest interest rate is more than 24% and minimum is just more than 5%. Most pople have taken loan at 12.5% and least at 25%.\n",
    "- Most pople have taken loan at interest rate of 9%-13%.\n",
    "- The \"B\" grade loans are highest with more than 30% and \"G\" lowest.\n",
    "- Most loans are in \"A\" and \"B\" Sub grade but highest in \"A4\".\n",
    "- Most of the borrowers have work experience greater than 10 years.\n",
    "- Most of the borrowers are not owing house but on either mortage or rent.\n",
    "- Most of the borrowers are in low income range of around 60k.\n",
    "- More than 50% of the borrower's income or source is verified. But massive 43% are not verified.\n",
    "- More than 50% of the loans were sanctioned in 2011. The loan approval increased every year.\n",
    "- More than 85% loan were fully paid and around 15% Charged Off.\n",
    "- More than 46% of the loans were for debt_consolidation.\n",
    "- More than 18% of the borrowers are from CA which is highest.\n",
    "- Most of the borrowers are in debt.\n",
    "- Around 42% of the borrowers had recent credit inquiries.\n",
    "- Many borrowers have open credit lines and 66% have between 2-10 credit line open.\n",
    "- Most borrowers have 0 public record bankruptcies.\r",
    " \n",
    "\n",
    "#### Segmented Univariate Analysis\n",
    "- we can say that Borrowers who take small_business loan have higher chance of defaulting.\n",
    "- we can say that the 60 month term has higher chance of defaulti\n",
    "- we can say that Grade F,D,G have higher chance of defaulting with G the highest.\n",
    "- we can say that loans in dti range of 19-25 have higher chance of defaulting.\n",
    "- we can see that Borrowers having pub_rec_bankruptcies are more likely to default.\n",
    "- we can say that borrowers who are on RENT has higher chance of defaulting compared to Mortgage or own house.\n",
    "- we can say that higher income borrowers are less likely to default and lower income borrowers with 50k and less are more likely to default.\n",
    "- we can say that borrowers with High interest specifically above 17.5 are more likely to default.\n",
    "- we can say that borrowers with experience of 10+ years are more likely to default and also repay.\n",
    "- we can say that most defaults and Fully paid was in december month.\n",
    "- we can say that most defaults and fullypaid was in year 2011.\n",
    "- we can say that major borrowers are from CA, FL and NY.\n",
    "- we can say that large amount of loan has higher chance of defaulting.\n",
    "\n",
    "#### Bivariate Analysis\n",
    "\n",
    "- we can say that there is a moderate positive correlation between the loan amount and interest rate. As the loan amount increases, the interest rate tends to increase as well, but not very strongly.\n",
    "\n",
    "- we can say that there is a moderate positive correlation between the loan amount and annual income. As the annual income increases, the loan amount tends to increase as well, but not very strongly.\n",
    "  \n",
    "- we can say that this indicates a very weak positive correlation between the loan amount and the debt-to-income ratio.As the debt-to-income ratio increases, the loan amount does not show a strong tendency to increase or decrease.\n",
    "\n",
    "- we can say that this indicates a very weak negative correlation between the loan amount and the number of public record bankruptcies. As the number of public record bankruptcies increases, the loan amount tends to decrease slightly, but the relationship is not strong.\n",
    "  \n",
    "- we can say that this indicates an extremely weak negative correlation between annual income and the number of public record bankruptcies.As the number of public record bankruptcies increases, the annual income tends to decrease slightly, but the relationship is almost negligible\n",
    "\n",
    "#### Recommendations:\n",
    "\n",
    "- Major Driver variables which are strong indicators of default are:\n",
    "\n",
    "    1. int_rate (Intrest rate)\n",
    "    2. emp_length (Employment length)\n",
    "    3. grade (loan grade)\n",
    "    4. purpose (loan purpose)\n",
    "    5. dti (Debt-to-Income Ratio)\n",
    "    6. Pub_rec_bankruptcies (public record bankruptcies)\n",
    "    7. annual_inc (Annual income)\n",
    "\n",
    "- Details on the above variables and other aspects:\r\n",
    "    - we can say that Borrowers with 60 month term loan has higher chance of defaulting.\r\n",
    "    - we can say that Borrowers with loan Grade F,D,G have higher chance of defaulting with G the highest.\r\n",
    "    - we can say that Borrowers who take small_business loan have higher chance of defaulting.\r\n",
    "    - we can say that Borrowers with Public Recorded Bankruptcy has higher chance of defaulting.\r\n",
    "    - we can say that borrowers with experience of 10+ years are more likely to default.\r\n",
    "    - we can say that Borrowers with High interest specifically above 17.5 are more likely to default.\r\n",
    "    - we can say that Borrowers loans in dti range of 19-25 have higher chance of defaulting.\r\n",
    "    - we can say that Borrowers who are on RENT has higher chance of defaulting compared to Mortgage or own house.\r\n",
    "    - we can say that Borrowers with working experience 10+ years has higher chance of defaulting."
   ]
  },
  {
   "cell_type": "code",
   "execution_count": null,
   "id": "02da9f14-3545-494f-9ced-fe3857fccf80",
   "metadata": {},
   "outputs": [],
   "source": []
  }
 ],
 "metadata": {
  "kernelspec": {
   "display_name": "Python 3 (ipykernel)",
   "language": "python",
   "name": "python3"
  },
  "language_info": {
   "codemirror_mode": {
    "name": "ipython",
    "version": 3
   },
   "file_extension": ".py",
   "mimetype": "text/x-python",
   "name": "python",
   "nbconvert_exporter": "python",
   "pygments_lexer": "ipython3",
   "version": "3.11.7"
  }
 },
 "nbformat": 4,
 "nbformat_minor": 5
}
